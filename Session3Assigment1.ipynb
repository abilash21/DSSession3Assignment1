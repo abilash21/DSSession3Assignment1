{
 "cells": [
  {
   "cell_type": "code",
   "execution_count": 12,
   "metadata": {},
   "outputs": [
    {
     "name": "stdout",
     "output_type": "stream",
     "text": [
      "10\n",
      "24\n",
      "44\n"
     ]
    }
   ],
   "source": [
    "def myreduce(f,lists):\n",
    "    seq = lists[:]\n",
    "    while len(seq)>=2:\n",
    "        result = f(seq[0], seq[1])\n",
    "        #print(result)\n",
    "        seq.pop(0)\n",
    "        seq[0] = result\n",
    "\n",
    "    return seq[0]\n",
    "    \n",
    "def f1(x,y):\n",
    "    return x+y\n",
    "\n",
    "def f2(x,y):\n",
    "    return x*y\n",
    "\n",
    "lists =[1,2,3,4]\n",
    "print(myreduce(f1,lists))\n",
    "print(myreduce(f2,lists))\n",
    "print(myreduce(lambda x, y: x*2 + y*2,lists))"
   ]
  },
  {
   "cell_type": "code",
   "execution_count": 25,
   "metadata": {},
   "outputs": [
    {
     "name": "stdout",
     "output_type": "stream",
     "text": [
      "[0, 2, 4, 6, 8, 10, 12, 14, 16, 18]\n",
      "[0, 2, 4, 6, 8, 10, 12, 14, 16, 18]\n",
      "[1, 3, 5, 7, 9, 11, 13, 15, 17, 19]\n"
     ]
    }
   ],
   "source": [
    "def myfilter(f, lists):\n",
    "    returnlist =[]\n",
    "    for item in lists:\n",
    "        if f(item) == True:\n",
    "            returnlist.append(item)   \n",
    "    return returnlist\n",
    "\n",
    "def is_even(x):\n",
    "    if x%2 == 0:\n",
    "        return True\n",
    "    return False\n",
    "\n",
    "def is_odd(x):\n",
    "    if x%2 != 0:\n",
    "        return True\n",
    "    return False\n",
    "\n",
    "lst = range(20)\n",
    "\n",
    "print(list(myfilter(is_even, lst)))\n",
    "print(list(myfilter(lambda x: x%2==0,lst)))\n",
    "print(list(myfilter(is_odd, lst)))\n"
   ]
  },
  {
   "cell_type": "code",
   "execution_count": null,
   "metadata": {
    "collapsed": true
   },
   "outputs": [],
   "source": []
  }
 ],
 "metadata": {
  "kernelspec": {
   "display_name": "Python 3",
   "language": "python",
   "name": "python3"
  },
  "language_info": {
   "codemirror_mode": {
    "name": "ipython",
    "version": 3
   },
   "file_extension": ".py",
   "mimetype": "text/x-python",
   "name": "python",
   "nbconvert_exporter": "python",
   "pygments_lexer": "ipython3",
   "version": "3.6.3"
  }
 },
 "nbformat": 4,
 "nbformat_minor": 2
}
